{
 "cells": [
  {
   "cell_type": "code",
   "execution_count": 4,
   "metadata": {
    "_cell_guid": "b1076dfc-b9ad-4769-8c92-a6c4dae69d19",
    "_uuid": "8f2839f25d086af736a60e9eeb907d3b93b6e0e5",
    "execution": {
     "iopub.execute_input": "2025-06-07T16:49:42.451545Z",
     "iopub.status.busy": "2025-06-07T16:49:42.450741Z",
     "iopub.status.idle": "2025-06-07T16:49:42.474854Z",
     "shell.execute_reply": "2025-06-07T16:49:42.473655Z",
     "shell.execute_reply.started": "2025-06-07T16:49:42.451511Z"
    }
   },
   "outputs": [
    {
     "name": "stdout",
     "output_type": "stream",
     "text": [
      "/kaggle/input/us-jobs-on-monstercom/monster_com-job_sample.csv\n"
     ]
    }
   ],
   "source": [
    "# This Python 3 environment comes with many helpful analytics libraries installed\n",
    "# It is defined by the kaggle/python Docker image: https://github.com/kaggle/docker-python\n",
    "# For example, here's several helpful packages to load\n",
    "\n",
    "import numpy as np # linear algebra\n",
    "import pandas as pd # data processing, CSV file I/O (e.g. pd.read_csv)\n",
    "\n",
    "# Input data files are available in the read-only \"../input/\" directory\n",
    "# For example, running this (by clicking run or pressing Shift+Enter) will list all files under the input directory\n",
    "\n",
    "import os\n",
    "for dirname, _, filenames in os.walk('/kaggle/input'):\n",
    "    for filename in filenames:\n",
    "        print(os.path.join(dirname, filename))\n",
    "\n",
    "# You can write up to 20GB to the current directory (/kaggle/working/) that gets preserved as output when you create a version using \"Save & Run All\" \n",
    "# You can also write temporary files to /kaggle/temp/, but they won't be saved outside of the current session"
   ]
  },
  {
   "cell_type": "markdown",
   "metadata": {},
   "source": [
    "## Content-Based Job Recommender (Based on Job Descriptions)"
   ]
  },
  {
   "cell_type": "code",
   "execution_count": 37,
   "metadata": {
    "execution": {
     "iopub.execute_input": "2025-06-07T17:36:08.850818Z",
     "iopub.status.busy": "2025-06-07T17:36:08.850443Z",
     "iopub.status.idle": "2025-06-07T17:37:19.605555Z",
     "shell.execute_reply": "2025-06-07T17:37:19.603907Z",
     "shell.execute_reply.started": "2025-06-07T17:36:08.850792Z"
    }
   },
   "outputs": [
    {
     "name": "stdout",
     "output_type": "stream",
     "text": [
      "                                               job_title  \\\n",
      "11725  Office Manager - Great Benefits Job in South S...   \n",
      "7949       Technical Support Consultant Job in Las Vegas   \n",
      "14794    Assistant Restaurant Manager Job in Springfield   \n",
      "14905    Assistant Restaurant Manager Job in Springfield   \n",
      "8408       Customer Service Representative Job in Denver   \n",
      "\n",
      "               organization                       location  \n",
      "11725  Other/Not Classified  South San Francisco, CA 94080  \n",
      "7949                    NaN                  Las Vegas, NV  \n",
      "14794                   NaN                Springfield, OH  \n",
      "14905                   NaN                Springfield, OH  \n",
      "8408   Other/Not Classified               Denver, CO 80203  \n"
     ]
    }
   ],
   "source": [
    "from sklearn.feature_extraction.text import TfidfVectorizer\n",
    "from sklearn.metrics.pairwise import cosine_similarity\n",
    "\n",
    "# Step 1: TF-IDF Vectorization\n",
    "tfidf = TfidfVectorizer(stop_words='english', max_features=5000)\n",
    "tfidf_matrix = tfidf.fit_transform(df_new['job_description'])\n",
    "\n",
    "# Step 2: Cosine Similarity\n",
    "cosine_sim = cosine_similarity(tfidf_matrix)\n",
    "\n",
    "# Step 3: Recommender Function\n",
    "def recommend_jobs(job_index, top_n=5):\n",
    "    similarity_scores = list(enumerate(cosine_sim[job_index]))\n",
    "    similarity_scores = sorted(similarity_scores, key=lambda x: x[1], reverse=True)\n",
    "    similar_jobs = [i[0] for i in similarity_scores[1:top_n+1]]\n",
    "    return df_new.iloc[similar_jobs][['job_title', 'organization', 'location']]\n",
    "\n",
    "# Example: Recommend jobs similar to job at index 100\n",
    "recommended_jobs = recommend_jobs(100)\n",
    "# Display recommended jobs in a simple table\n",
    "print(recommended_jobs)\n"
   ]
  },
  {
   "cell_type": "code",
   "execution_count": null,
   "metadata": {},
   "outputs": [],
   "source": []
  }
 ],
 "metadata": {
  "kaggle": {
   "accelerator": "none",
   "dataSources": [
    {
     "datasetId": 2504,
     "sourceId": 4186,
     "sourceType": "datasetVersion"
    }
   ],
   "dockerImageVersionId": 31040,
   "isGpuEnabled": false,
   "isInternetEnabled": true,
   "language": "python",
   "sourceType": "notebook"
  },
  "kernelspec": {
   "display_name": "Python [conda env:venv]",
   "language": "python",
   "name": "conda-env-venv-py"
  },
  "language_info": {
   "codemirror_mode": {
    "name": "ipython",
    "version": 3
   },
   "file_extension": ".py",
   "mimetype": "text/x-python",
   "name": "python",
   "nbconvert_exporter": "python",
   "pygments_lexer": "ipython3",
   "version": "3.9.21"
  }
 },
 "nbformat": 4,
 "nbformat_minor": 4
}
